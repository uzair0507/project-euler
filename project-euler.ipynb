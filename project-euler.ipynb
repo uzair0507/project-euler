{
 "cells": [
  {
   "cell_type": "markdown",
   "metadata": {},
   "source": [
    "## Sum of multiples 3 & 5 below 1000"
   ]
  },
  {
   "cell_type": "code",
   "execution_count": 1,
   "metadata": {},
   "outputs": [
    {
     "name": "stdout",
     "output_type": "stream",
     "text": [
      "233168\n"
     ]
    }
   ],
   "source": [
    "mul = [n for n in range(1, 1000) if n % 3 == 0 or n % 5 == 0]\n",
    "result = 0\n",
    "for num in mul:\n",
    "  result = result + num\n",
    "print(result)"
   ]
  },
  {
   "cell_type": "markdown",
   "metadata": {},
   "source": [
    "## Even Fibonacci numbers "
   ]
  },
  {
   "cell_type": "code",
   "execution_count": 2,
   "metadata": {},
   "outputs": [
    {
     "name": "stdout",
     "output_type": "stream",
     "text": [
      "4613732\n"
     ]
    }
   ],
   "source": [
    "num = 1\n",
    "num2 = 2\n",
    "temp = 0\n",
    "sum = 0\n",
    "\n",
    "while temp <= 4000000:\n",
    "  temp = num2\n",
    "  if temp % 2 ==0:\n",
    "    sum += temp\n",
    "  temp = num + num2\n",
    "  num = num2\n",
    "  num2 = temp\n",
    "print(sum)"
   ]
  },
  {
   "cell_type": "markdown",
   "metadata": {},
   "source": [
    "## Largest Prime Factor"
   ]
  },
  {
   "cell_type": "code",
   "execution_count": null,
   "metadata": {},
   "outputs": [],
   "source": [
    "import math\n",
    "def primeFactors(n):\n",
    "    while n % 2 == 0:\n",
    "        print(2,)\n",
    "        n = n/2\n",
    "    for i in range(3, int(math.sqrt(n))+1, 2):\n",
    "        while n % i == 0:\n",
    "            print(i,)\n",
    "            n = n / i\n",
    "    if n > 2:\n",
    "        print(n,)\n",
    "\n",
    "n = 600851475143\n",
    "primeFactors(n)"
   ]
  }
 ],
 "metadata": {
  "interpreter": {
   "hash": "9c2ea39d87211ff79f08ab64f284993b7a24fba1ef3da099c2f29522755d2a69"
  },
  "kernelspec": {
   "display_name": "Python 3.9.7 64-bit",
   "name": "python3"
  },
  "language_info": {
   "codemirror_mode": {
    "name": "ipython",
    "version": 3
   },
   "file_extension": ".py",
   "mimetype": "text/x-python",
   "name": "python",
   "nbconvert_exporter": "python",
   "pygments_lexer": "ipython3",
   "version": "3.9.7"
  },
  "orig_nbformat": 4
 },
 "nbformat": 4,
 "nbformat_minor": 2
}
