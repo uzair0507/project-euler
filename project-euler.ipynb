{
 "cells": [
  {
   "cell_type": "markdown",
   "source": [
    "## Sum of multiples 3 & 5 below 1000"
   ],
   "metadata": {}
  },
  {
   "cell_type": "code",
   "execution_count": 1,
   "source": [
    "mul = [n for n in range(1, 1000) if n % 3 == 0 or n % 5 == 0]\r\n",
    "result = 0\r\n",
    "for num in mul:\r\n",
    "  result = result + num\r\n",
    "print(result)"
   ],
   "outputs": [
    {
     "output_type": "stream",
     "name": "stdout",
     "text": [
      "233168\n"
     ]
    }
   ],
   "metadata": {}
  },
  {
   "cell_type": "markdown",
   "source": [
    "## Even Fibonacci numbers "
   ],
   "metadata": {}
  },
  {
   "cell_type": "code",
   "execution_count": 2,
   "source": [
    "num = 1\r\n",
    "num2 = 2\r\n",
    "temp = 0\r\n",
    "sum = 0\r\n",
    "\r\n",
    "while temp <= 4000000:\r\n",
    "  temp = num2\r\n",
    "  if temp % 2 ==0:\r\n",
    "    sum += temp\r\n",
    "  temp = num + num2\r\n",
    "  num = num2\r\n",
    "  num2 = temp\r\n",
    "print(sum)"
   ],
   "outputs": [
    {
     "output_type": "stream",
     "name": "stdout",
     "text": [
      "4613732\n"
     ]
    }
   ],
   "metadata": {}
  },
  {
   "cell_type": "markdown",
   "source": [
    "## Largest Prime Factor"
   ],
   "metadata": {}
  },
  {
   "cell_type": "code",
   "execution_count": null,
   "source": [
    "import math\r\n",
    "def primeFactors(n):\r\n",
    "    while n % 2 == 0:\r\n",
    "        print(2,)\r\n",
    "        n = n/2\r\n",
    "    for i in range(3, int(math.sqrt(n))+1, 2):\r\n",
    "        while n % i == 0:\r\n",
    "            print(i,)\r\n",
    "            n = n / i\r\n",
    "    if n > 2:\r\n",
    "        print(n,)\r\n",
    "\r\n",
    "n = 600851475143\r\n",
    "primeFactors(n)"
   ],
   "outputs": [],
   "metadata": {}
  }
 ],
 "metadata": {
  "orig_nbformat": 4,
  "language_info": {
   "name": "python",
   "version": "3.9.7",
   "mimetype": "text/x-python",
   "codemirror_mode": {
    "name": "ipython",
    "version": 3
   },
   "pygments_lexer": "ipython3",
   "nbconvert_exporter": "python",
   "file_extension": ".py"
  },
  "kernelspec": {
   "name": "python3",
   "display_name": "Python 3.9.7 64-bit"
  },
  "interpreter": {
   "hash": "9c2ea39d87211ff79f08ab64f284993b7a24fba1ef3da099c2f29522755d2a69"
  }
 },
 "nbformat": 4,
 "nbformat_minor": 2
}